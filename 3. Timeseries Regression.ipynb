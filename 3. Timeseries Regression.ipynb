{
 "cells": [
  {
   "cell_type": "code",
   "execution_count": null,
   "metadata": {
    "collapsed": false
   },
   "outputs": [],
   "source": [
    "import pandas as pd\n",
    "from pandas.tools.plotting import autocorrelation_plot\n",
    "from matplotlib import pyplot as plt\n",
    "from statsmodels.tsa.arima_model import ARIMA\n",
    "\n",
    "plt.rcParams['figure.figsize'] = (10, 6)\n",
    "%matplotlib inline"
   ]
  },
  {
   "cell_type": "markdown",
   "metadata": {},
   "source": [
    "random intro to time-series"
   ]
  },
  {
   "cell_type": "markdown",
   "metadata": {},
   "source": [
    "random intro to dataset"
   ]
  },
  {
   "cell_type": "markdown",
   "metadata": {},
   "source": [
    "What is the data set?\n",
    "------------------------\n",
    "Prices and weather forecasts for the New York State power grid\n",
    "\n",
    "\n",
    "Definitions:\n",
    "------------\n",
    "\n",
    "NYISO: New York Independent System Operator\n",
    "LBMP: Locational Based Marginal Pricing\n"
   ]
  },
  {
   "cell_type": "code",
   "execution_count": null,
   "metadata": {
    "collapsed": true
   },
   "outputs": [],
   "source": [
    "# load all the data\n",
    "day_ahead_market = pd.read_csv('datasets/timeseries/day_ahead_market_lbmp.csv.gz')\n",
    "real_time_market = pd.read_csv('datasets/timeseries/real_time_market_lbmp.csv.gz')\n",
    "weather_forecast = pd.read_csv('datasets/timeseries/weather_forecast.csv.gz')"
   ]
  },
  {
   "cell_type": "code",
   "execution_count": null,
   "metadata": {
    "collapsed": false
   },
   "outputs": [],
   "source": [
    "day_ahead_market['Time Stamp'] = pd.to_datetime(day_ahead_market['Time Stamp'], format='%m/%d/%Y %H:%M')\n",
    "real_time_market['Time Stamp'] = pd.to_datetime(real_time_market['Time Stamp'], format='%m/%d/%Y %H:%M:%S')"
   ]
  },
  {
   "cell_type": "code",
   "execution_count": null,
   "metadata": {
    "collapsed": false
   },
   "outputs": [],
   "source": [
    "weather_forecast['Forecast Date'] = pd.to_datetime(weather_forecast['Forecast Date'], format='%m/%d/%Y')\n",
    "weather_forecast['Vintage Date'] = pd.to_datetime(weather_forecast['Vintage Date'], format='%m/%d/%Y')\n",
    "weather_forecast['Vintage'] = weather_forecast['Vintage'].astype('category')"
   ]
  },
  {
   "cell_type": "code",
   "execution_count": null,
   "metadata": {
    "collapsed": false
   },
   "outputs": [],
   "source": [
    "# insert some graphs here\n",
    "dam_time_name = day_ahead_market.set_index(['Name', 'Time Stamp'])\n",
    "rtm_time_name = real_time_market.set_index(['Name', 'Time Stamp'])"
   ]
  },
  {
   "cell_type": "code",
   "execution_count": null,
   "metadata": {
    "collapsed": true
   },
   "outputs": [],
   "source": [
    "dam_nyc_lbmp = dam_time_name['LBMP ($/MWHr)']['N.Y.C.']\n",
    "rtm_nyc_lbmp = rtm_time_name['LBMP ($/MWHr)']['N.Y.C.']"
   ]
  },
  {
   "cell_type": "code",
   "execution_count": null,
   "metadata": {
    "collapsed": false,
    "scrolled": false
   },
   "outputs": [],
   "source": [
    "plt.figure(figsize=(10,8))\n",
    "dam_nyc_lbmp.plot(title='NYC Day Ahead LBMP 2015')"
   ]
  },
  {
   "cell_type": "code",
   "execution_count": null,
   "metadata": {
    "collapsed": false
   },
   "outputs": [],
   "source": [
    "plt.figure(figsize=(10,8))\n",
    "rtm_nyc_lbmp.plot(title='NYC Realtime LBMP 2015')"
   ]
  },
  {
   "cell_type": "code",
   "execution_count": null,
   "metadata": {
    "collapsed": false,
    "scrolled": false
   },
   "outputs": [],
   "source": [
    "aligned_dam, aligned_rtm = rtm_nyc_lbmp.align(dam_nyc_lbmp, join='inner')\n",
    "\n",
    "no_dup_al_dam = aligned_dam[~aligned_dam.index.duplicated(keep='first')]\n",
    "no_dup_al_rtm = aligned_rtm[~aligned_dam.index.duplicated(keep='first')]\n",
    "\n",
    "no_dup_al_dam.name = 'dam_lbmp'\n",
    "no_dup_al_rtm.name = 'rtm_lbmp'\n",
    "\n",
    "dam_rtm_df = pd.DataFrame([no_dup_al_dam, no_dup_al_rtm]).transpose()\n",
    "\n",
    "lga_and_jfk_indexed = weather_forecast[(weather_forecast['Station ID'] == 'LGA') | (weather_forecast['Station ID'] == 'JFK')].set_index(['Forecast Date', 'Vintage Date', 'Vintage', 'Station ID'])\n",
    "mean_nyc_indexed = lga_and_jfk_indexed.mean(level=[0,1,2])\n",
    "\n",
    "mean_nyc = mean_nyc_indexed.reset_index()\n",
    "actual_temp_df = mean_nyc[mean_nyc['Vintage'] == 'Actual'] \\\n",
    "    .groupby(['Vintage Date']).first() \\\n",
    "    .rename(columns=lambda x: 'Actual ' + x)\n",
    "\n",
    "dam_rtm_act_df = dam_rtm_df.join(actual_temp_df, how='left').fillna(method='ffill').dropna()"
   ]
  },
  {
   "cell_type": "code",
   "execution_count": null,
   "metadata": {
    "collapsed": false
   },
   "outputs": [],
   "source": [
    "daily_df = dam_rtm_act_df.resample('D', how='mean')"
   ]
  },
  {
   "cell_type": "code",
   "execution_count": null,
   "metadata": {
    "collapsed": false
   },
   "outputs": [],
   "source": [
    "plt.figure(figsize=(14,10))\n",
    "plt.plot_date(daily_df.index, daily_df['dam_lbmp'], '-', label='LBMP')\n",
    "plt.plot_date(daily_df.index, daily_df['Actual Min Temp'], '-', label='Min Temp')\n",
    "plt.plot_date(daily_df.index, daily_df['Actual Max Temp'], '-', label='Max Temp')\n",
    "plt.legend()"
   ]
  },
  {
   "cell_type": "code",
   "execution_count": null,
   "metadata": {
    "collapsed": false
   },
   "outputs": [],
   "source": [
    "plt.figure(figsize=(10,8))\n",
    "autocorrelation_plot(daily_df['dam_lbmp'])"
   ]
  },
  {
   "cell_type": "code",
   "execution_count": null,
   "metadata": {
    "collapsed": false
   },
   "outputs": [],
   "source": [
    "m = ARIMA(daily_df['dam_lbmp'].values, [10,0,0], exog=daily_df['Actual Min Temp'].values, dates=daily_df.index.values)"
   ]
  },
  {
   "cell_type": "code",
   "execution_count": null,
   "metadata": {
    "collapsed": false
   },
   "outputs": [],
   "source": [
    "results = m.fit(trend='c', disp=True)"
   ]
  },
  {
   "cell_type": "code",
   "execution_count": null,
   "metadata": {
    "collapsed": false
   },
   "outputs": [],
   "source": [
    "results.summary()"
   ]
  },
  {
   "cell_type": "code",
   "execution_count": null,
   "metadata": {
    "collapsed": false
   },
   "outputs": [],
   "source": [
    "predicted_prices = results.predict(10, 364, exog=daily_df['Actual Min Temp'].values, dynamic=False)"
   ]
  },
  {
   "cell_type": "code",
   "execution_count": null,
   "metadata": {
    "collapsed": false
   },
   "outputs": [],
   "source": [
    "plt.figure(figsize=(10, 8))\n",
    "plt.plot(predicted_prices, label='prediction')\n",
    "plt.plot(daily_df['dam_lbmp'].values[10:], label='original')\n",
    "plt.legend()"
   ]
  },
  {
   "cell_type": "markdown",
   "metadata": {},
   "source": [
    "AR and EWMA analysis of data set"
   ]
  },
  {
   "cell_type": "markdown",
   "metadata": {},
   "source": [
    "panel analysis of data set (forecast from weather)"
   ]
  },
  {
   "cell_type": "markdown",
   "metadata": {},
   "source": [
    "talk about cool models"
   ]
  }
 ],
 "metadata": {
  "kernelspec": {
   "display_name": "Python 3",
   "language": "python",
   "name": "python3"
  },
  "language_info": {
   "codemirror_mode": {
    "name": "ipython",
    "version": 3
   },
   "file_extension": ".py",
   "mimetype": "text/x-python",
   "name": "python",
   "nbconvert_exporter": "python",
   "pygments_lexer": "ipython3",
   "version": "3.5.1"
  }
 },
 "nbformat": 4,
 "nbformat_minor": 0
}
